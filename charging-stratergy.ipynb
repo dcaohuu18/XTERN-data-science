{
 "cells": [
  {
   "cell_type": "code",
   "execution_count": 1,
   "metadata": {},
   "outputs": [],
   "source": [
    "import numpy as np\n",
    "import pandas as pd\n",
    "import matplotlib.pyplot as plt\n",
    "%matplotlib inline\n",
    "from pandas.plotting import register_matplotlib_converters\n",
    "register_matplotlib_converters()"
   ]
  },
  {
   "cell_type": "code",
   "execution_count": 2,
   "metadata": {},
   "outputs": [
    {
     "data": {
      "text/html": [
       "<div>\n",
       "<style scoped>\n",
       "    .dataframe tbody tr th:only-of-type {\n",
       "        vertical-align: middle;\n",
       "    }\n",
       "\n",
       "    .dataframe tbody tr th {\n",
       "        vertical-align: top;\n",
       "    }\n",
       "\n",
       "    .dataframe thead th {\n",
       "        text-align: right;\n",
       "    }\n",
       "</style>\n",
       "<table border=\"1\" class=\"dataframe\">\n",
       "  <thead>\n",
       "    <tr style=\"text-align: right;\">\n",
       "      <th></th>\n",
       "      <th>scooter_id</th>\n",
       "      <th>xcoordinate</th>\n",
       "      <th>ycoordinate</th>\n",
       "      <th>power_level</th>\n",
       "      <th>density</th>\n",
       "      <th>avg_power_lv</th>\n",
       "      <th>charging_time</th>\n",
       "    </tr>\n",
       "  </thead>\n",
       "  <tbody>\n",
       "    <tr>\n",
       "      <th>0</th>\n",
       "      <td>0</td>\n",
       "      <td>0.906835</td>\n",
       "      <td>0.776484</td>\n",
       "      <td>0</td>\n",
       "      <td>1371</td>\n",
       "      <td>2.453683</td>\n",
       "      <td>5</td>\n",
       "    </tr>\n",
       "    <tr>\n",
       "      <th>1</th>\n",
       "      <td>1</td>\n",
       "      <td>0.928587</td>\n",
       "      <td>0.804964</td>\n",
       "      <td>2</td>\n",
       "      <td>1314</td>\n",
       "      <td>2.454338</td>\n",
       "      <td>3</td>\n",
       "    </tr>\n",
       "    <tr>\n",
       "      <th>2</th>\n",
       "      <td>2</td>\n",
       "      <td>0.904091</td>\n",
       "      <td>0.784043</td>\n",
       "      <td>1</td>\n",
       "      <td>1335</td>\n",
       "      <td>2.456929</td>\n",
       "      <td>4</td>\n",
       "    </tr>\n",
       "    <tr>\n",
       "      <th>3</th>\n",
       "      <td>3</td>\n",
       "      <td>0.906752</td>\n",
       "      <td>0.804461</td>\n",
       "      <td>0</td>\n",
       "      <td>1314</td>\n",
       "      <td>2.459665</td>\n",
       "      <td>5</td>\n",
       "    </tr>\n",
       "    <tr>\n",
       "      <th>4</th>\n",
       "      <td>4</td>\n",
       "      <td>0.900641</td>\n",
       "      <td>0.781683</td>\n",
       "      <td>4</td>\n",
       "      <td>1323</td>\n",
       "      <td>2.458806</td>\n",
       "      <td>1</td>\n",
       "    </tr>\n",
       "  </tbody>\n",
       "</table>\n",
       "</div>"
      ],
      "text/plain": [
       "   scooter_id  xcoordinate  ycoordinate  power_level  density  avg_power_lv  \\\n",
       "0           0     0.906835     0.776484            0     1371      2.453683   \n",
       "1           1     0.928587     0.804964            2     1314      2.454338   \n",
       "2           2     0.904091     0.784043            1     1335      2.456929   \n",
       "3           3     0.906752     0.804461            0     1314      2.459665   \n",
       "4           4     0.900641     0.781683            4     1323      2.458806   \n",
       "\n",
       "   charging_time  \n",
       "0              5  \n",
       "1              3  \n",
       "2              4  \n",
       "3              5  \n",
       "4              1  "
      ]
     },
     "execution_count": 2,
     "metadata": {},
     "output_type": "execute_result"
    }
   ],
   "source": [
    "scooters_info = pd.read_csv('scooters_with_density.csv')\n",
    "scooters_info.head(5)"
   ]
  },
  {
   "cell_type": "code",
   "execution_count": 3,
   "metadata": {},
   "outputs": [
    {
     "data": {
      "image/png": "[encoded data removed]",
      "text/plain": [
       "<Figure size 720x720 with 1 Axes>"
      ]
     },
     "metadata": {
      "needs_background": "light"
     },
     "output_type": "display_data"
    }
   ],
   "source": [
    "def plot_bus_location(bus_coordinates, plot_size = (10, 10)): \n",
    "    plt.figure(figsize = plot_size)\n",
    "\n",
    "    #plot the scooters' locations:\n",
    "    plt.scatter(scooters_info['xcoordinate'], scooters_info['ycoordinate'], color = 'blue')\n",
    "    \n",
    "    #plot the bus' location:\n",
    "    plt.scatter(bus_coordinates[0], bus_coordinates[1], color = 'red')\n",
    "\n",
    "    plt.title(\"Scooters VS Bus Location\")\n",
    "\n",
    "    plt.legend([\"Scooters\", \"Bus\"])\n",
    "    \n",
    "plot_bus_location(bus_coordinates = (20.19, 20.19))"
   ]
  },
  {
   "cell_type": "code",
   "execution_count": 4,
   "metadata": {},
   "outputs": [
    {
     "data": {
      "text/html": [
       "<div>\n",
       "<style scoped>\n",
       "    .dataframe tbody tr th:only-of-type {\n",
       "        vertical-align: middle;\n",
       "    }\n",
       "\n",
       "    .dataframe tbody tr th {\n",
       "        vertical-align: top;\n",
       "    }\n",
       "\n",
       "    .dataframe thead th {\n",
       "        text-align: right;\n",
       "    }\n",
       "</style>\n",
       "<table border=\"1\" class=\"dataframe\">\n",
       "  <thead>\n",
       "    <tr style=\"text-align: right;\">\n",
       "      <th></th>\n",
       "      <th>scooter_id</th>\n",
       "      <th>xcoordinate</th>\n",
       "      <th>ycoordinate</th>\n",
       "      <th>power_level</th>\n",
       "      <th>density</th>\n",
       "      <th>avg_power_lv</th>\n",
       "      <th>charging_time</th>\n",
       "      <th>distance_to_bus</th>\n",
       "    </tr>\n",
       "  </thead>\n",
       "  <tbody>\n",
       "    <tr>\n",
       "      <th>14264</th>\n",
       "      <td>14264</td>\n",
       "      <td>-0.187324</td>\n",
       "      <td>-0.235290</td>\n",
       "      <td>3</td>\n",
       "      <td>975</td>\n",
       "      <td>2.491282</td>\n",
       "      <td>2</td>\n",
       "      <td>28.851825</td>\n",
       "    </tr>\n",
       "    <tr>\n",
       "      <th>13850</th>\n",
       "      <td>13850</td>\n",
       "      <td>-0.172924</td>\n",
       "      <td>-0.248547</td>\n",
       "      <td>3</td>\n",
       "      <td>977</td>\n",
       "      <td>2.496418</td>\n",
       "      <td>2</td>\n",
       "      <td>28.851046</td>\n",
       "    </tr>\n",
       "    <tr>\n",
       "      <th>14412</th>\n",
       "      <td>14412</td>\n",
       "      <td>-0.182049</td>\n",
       "      <td>-0.238552</td>\n",
       "      <td>2</td>\n",
       "      <td>981</td>\n",
       "      <td>2.492355</td>\n",
       "      <td>3</td>\n",
       "      <td>28.850409</td>\n",
       "    </tr>\n",
       "    <tr>\n",
       "      <th>14235</th>\n",
       "      <td>14235</td>\n",
       "      <td>-0.173875</td>\n",
       "      <td>-0.246558</td>\n",
       "      <td>5</td>\n",
       "      <td>980</td>\n",
       "      <td>2.496939</td>\n",
       "      <td>0</td>\n",
       "      <td>28.850309</td>\n",
       "    </tr>\n",
       "    <tr>\n",
       "      <th>13887</th>\n",
       "      <td>13887</td>\n",
       "      <td>-0.164171</td>\n",
       "      <td>-0.255281</td>\n",
       "      <td>2</td>\n",
       "      <td>940</td>\n",
       "      <td>2.482979</td>\n",
       "      <td>3</td>\n",
       "      <td>28.849641</td>\n",
       "    </tr>\n",
       "  </tbody>\n",
       "</table>\n",
       "</div>"
      ],
      "text/plain": [
       "       scooter_id  xcoordinate  ycoordinate  power_level  density  \\\n",
       "14264       14264    -0.187324    -0.235290            3      975   \n",
       "13850       13850    -0.172924    -0.248547            3      977   \n",
       "14412       14412    -0.182049    -0.238552            2      981   \n",
       "14235       14235    -0.173875    -0.246558            5      980   \n",
       "13887       13887    -0.164171    -0.255281            2      940   \n",
       "\n",
       "       avg_power_lv  charging_time  distance_to_bus  \n",
       "14264      2.491282              2        28.851825  \n",
       "13850      2.496418              2        28.851046  \n",
       "14412      2.492355              3        28.850409  \n",
       "14235      2.496939              0        28.850309  \n",
       "13887      2.482979              3        28.849641  "
      ]
     },
     "execution_count": 4,
     "metadata": {},
     "output_type": "execute_result"
    }
   ],
   "source": [
    "def update_distance_to_bus(bus_coordinates):\n",
    "    bus_x = bus_coordinates[0]\n",
    "    bus_y = bus_coordinates[1]\n",
    "    \n",
    "    scooters_info['distance_to_bus'] = (bus_x - scooters_info.xcoordinate)**2 + (bus_y - scooters_info.ycoordinate)**2\n",
    "    scooters_info['distance_to_bus'] = (scooters_info['distance_to_bus'])**(1/2) #take square root \n",
    "    \n",
    "update_distance_to_bus((20.19, 20.19))\n",
    "scooters_info.sort_values('distance_to_bus', ascending = False).head()"
   ]
  },
  {
   "cell_type": "code",
   "execution_count": 5,
   "metadata": {},
   "outputs": [
    {
     "name": "stdout",
     "output_type": "stream",
     "text": [
      "MAX average power level: 2.550669216061185\n",
      "\n",
      "MIN average power level: 2.3989266547406083\n"
     ]
    }
   ],
   "source": [
    "print(\"MAX average power level:\", scooters_info.iloc[scooters_info.avg_power_lv.idxmax(), 5])\n",
    "\n",
    "print(\"\\nMIN average power level:\", scooters_info.iloc[scooters_info.avg_power_lv.idxmin(), 5])"
   ]
  },
  {
   "cell_type": "markdown",
   "metadata": {},
   "source": [
    "###### Comment: \n",
    "There is not much difference between the min and max of the average power level, which is the mean of the power level of all the scooters within the specified scooter's radius. In other words, there is no particular area that requires immediate \"rescue\". Therefore, not too much attention should be paid to this factor when deciding our journey."
   ]
  },
  {
   "cell_type": "markdown",
   "metadata": {},
   "source": [
    "***********"
   ]
  },
  {
   "cell_type": "markdown",
   "metadata": {},
   "source": [
    "#### The task of charging can be divided into 2 subtasks: \n",
    "1. Pick up scooters with power level less than 5\n",
    "2. Drop off fully-charged scooters"
   ]
  },
  {
   "cell_type": "code",
   "execution_count": 6,
   "metadata": {},
   "outputs": [],
   "source": [
    "#choose low-power scooters in low-density areas first (to avoid disrupting customers' experience):\n",
    "pick_up_order = scooters_info.sort_values(['power_level', 'density'], ascending = True).copy()\n",
    "\n",
    "#surely, a zero-power scooter should be picked up before a three-power scooter (sort by power_level first)\n",
    "\n",
    "#but for two three-power scooters, the one with higher density should be picked up later\n",
    "#>because there's a higher chance of it being used by someone (sort by density)"
   ]
  },
  {
   "cell_type": "code",
   "execution_count": 7,
   "metadata": {},
   "outputs": [
    {
     "data": {
      "text/html": [
       "<div>\n",
       "<style scoped>\n",
       "    .dataframe tbody tr th:only-of-type {\n",
       "        vertical-align: middle;\n",
       "    }\n",
       "\n",
       "    .dataframe tbody tr th {\n",
       "        vertical-align: top;\n",
       "    }\n",
       "\n",
       "    .dataframe thead th {\n",
       "        text-align: right;\n",
       "    }\n",
       "</style>\n",
       "<table border=\"1\" class=\"dataframe\">\n",
       "  <thead>\n",
       "    <tr style=\"text-align: right;\">\n",
       "      <th></th>\n",
       "      <th>scooter_id</th>\n",
       "      <th>xcoordinate</th>\n",
       "      <th>ycoordinate</th>\n",
       "      <th>power_level</th>\n",
       "      <th>density</th>\n",
       "      <th>avg_power_lv</th>\n",
       "      <th>charging_time</th>\n",
       "      <th>distance_to_bus</th>\n",
       "    </tr>\n",
       "  </thead>\n",
       "  <tbody>\n",
       "    <tr>\n",
       "      <th>3434</th>\n",
       "      <td>3434</td>\n",
       "      <td>1.174540</td>\n",
       "      <td>1.349940</td>\n",
       "      <td>0</td>\n",
       "      <td>910</td>\n",
       "      <td>2.494505</td>\n",
       "      <td>5</td>\n",
       "      <td>26.768182</td>\n",
       "    </tr>\n",
       "    <tr>\n",
       "      <th>3033</th>\n",
       "      <td>3033</td>\n",
       "      <td>1.184990</td>\n",
       "      <td>1.333143</td>\n",
       "      <td>0</td>\n",
       "      <td>911</td>\n",
       "      <td>2.492865</td>\n",
       "      <td>5</td>\n",
       "      <td>26.772588</td>\n",
       "    </tr>\n",
       "    <tr>\n",
       "      <th>3105</th>\n",
       "      <td>3105</td>\n",
       "      <td>1.175928</td>\n",
       "      <td>1.341352</td>\n",
       "      <td>0</td>\n",
       "      <td>913</td>\n",
       "      <td>2.491785</td>\n",
       "      <td>5</td>\n",
       "      <td>26.773242</td>\n",
       "    </tr>\n",
       "    <tr>\n",
       "      <th>3447</th>\n",
       "      <td>3447</td>\n",
       "      <td>1.169269</td>\n",
       "      <td>1.346719</td>\n",
       "      <td>0</td>\n",
       "      <td>914</td>\n",
       "      <td>2.489059</td>\n",
       "      <td>5</td>\n",
       "      <td>26.774194</td>\n",
       "    </tr>\n",
       "    <tr>\n",
       "      <th>2748</th>\n",
       "      <td>2748</td>\n",
       "      <td>1.190299</td>\n",
       "      <td>1.325479</td>\n",
       "      <td>0</td>\n",
       "      <td>908</td>\n",
       "      <td>2.488987</td>\n",
       "      <td>5</td>\n",
       "      <td>26.774219</td>\n",
       "    </tr>\n",
       "  </tbody>\n",
       "</table>\n",
       "</div>"
      ],
      "text/plain": [
       "      scooter_id  xcoordinate  ycoordinate  power_level  density  \\\n",
       "3434        3434     1.174540     1.349940            0      910   \n",
       "3033        3033     1.184990     1.333143            0      911   \n",
       "3105        3105     1.175928     1.341352            0      913   \n",
       "3447        3447     1.169269     1.346719            0      914   \n",
       "2748        2748     1.190299     1.325479            0      908   \n",
       "\n",
       "      avg_power_lv  charging_time  distance_to_bus  \n",
       "3434      2.494505              5        26.768182  \n",
       "3033      2.492865              5        26.772588  \n",
       "3105      2.491785              5        26.773242  \n",
       "3447      2.489059              5        26.774194  \n",
       "2748      2.488987              5        26.774219  "
      ]
     },
     "execution_count": 7,
     "metadata": {},
     "output_type": "execute_result"
    }
   ],
   "source": [
    "#because for power_level of 0 and 1, the density doesn't matter > sort by distance_to_bus instead. \n",
    "#based on how the scooters are located, scooters near to the bus are also relatively near to each other, \n",
    "#so we don't have to go back and forth:\n",
    "\n",
    "zero_and_one = scooters_info.loc[scooters_info.power_level.isin([0,1])].copy() #scooters with power level of 0 and 1\n",
    "zero_and_one.sort_values(['power_level', 'distance_to_bus'], ascending = True, inplace = True)\n",
    "\n",
    "bw_2_and_4 = pick_up_order.loc[~pick_up_order.power_level.isin([0,1,5])].copy() \n",
    "#scooters with neither zero nor one nor full power\n",
    "\n",
    "pick_up_order = pd.concat([zero_and_one, bw_2_and_4]) #put 'zero_and_one' on top of 'bw_2_and_4'\n",
    "\n",
    "pick_up_order.head(5)"
   ]
  },
  {
   "cell_type": "code",
   "execution_count": 8,
   "metadata": {},
   "outputs": [
    {
     "name": "stdout",
     "output_type": "stream",
     "text": [
      "Last pick up scooter_id: 1070\n",
      "First drop off scooter_id: 1070\n"
     ]
    }
   ],
   "source": [
    "drop_off_order = scooters_info.sort_values(['density'], ascending = False).copy()\n",
    "\n",
    "#we want to pick up at high-density lastly but drop off at high-density first\n",
    "\n",
    "print(\"Last pick up scooter_id:\", pick_up_order.iloc[-1, 0])\n",
    "print(\"First drop off scooter_id:\", drop_off_order.iloc[0, 0])"
   ]
  },
  {
   "cell_type": "markdown",
   "metadata": {},
   "source": [
    "###### COMMENT: \n",
    "If we just sort by density, it ends up that we only start dropping off after having picked up everything. This is certainly not wanted. We need to drop off as we go because the bus's capacity is limited and we want to make the best use of it. However, we still want to prioritize high-density places when dropping off.  "
   ]
  },
  {
   "cell_type": "markdown",
   "metadata": {},
   "source": [
    "###### DROP OFF SUGGESTION:\n",
    "\n",
    "There will be 2 drop-off options:\n",
    "1. If the number of fully charged scooters is below the drop-off limit >>> (Wait to) Drop off at pick-up points that have high density\n",
    "2. If the number of fully charged scooters exceeds the drop-off limit (in other words, the cost of waiting for the next high-density point is higher than its benefit) >>> Find a nearby point with max density and drop off there (See max_density_near_bus)\n",
    "\n",
    "For example, assume that the drop-off limit is 10 fully-charged scooters. If the bus arrives at a pick-up point that is labelled \"high density\" and currently has only 3 fully-charged scooters, it will still drop off all the fully-charged there. If the bus arrives at a pick-up point that is labelled \"low density\" but currently has 11 fully-charged scooters, it will find a nearby point with max density by calling max_density_near_bus() and drop the scooters off at that location."
   ]
  },
  {
   "cell_type": "code",
   "execution_count": 9,
   "metadata": {},
   "outputs": [
    {
     "data": {
      "text/html": [
       "<div>\n",
       "<style scoped>\n",
       "    .dataframe tbody tr th:only-of-type {\n",
       "        vertical-align: middle;\n",
       "    }\n",
       "\n",
       "    .dataframe tbody tr th {\n",
       "        vertical-align: top;\n",
       "    }\n",
       "\n",
       "    .dataframe thead th {\n",
       "        text-align: right;\n",
       "    }\n",
       "</style>\n",
       "<table border=\"1\" class=\"dataframe\">\n",
       "  <thead>\n",
       "    <tr style=\"text-align: right;\">\n",
       "      <th></th>\n",
       "      <th>scooter_id</th>\n",
       "      <th>xcoordinate</th>\n",
       "      <th>ycoordinate</th>\n",
       "      <th>power_level</th>\n",
       "      <th>density</th>\n",
       "      <th>avg_power_lv</th>\n",
       "      <th>charging_time</th>\n",
       "      <th>distance_to_bus</th>\n",
       "      <th>density_level</th>\n",
       "    </tr>\n",
       "  </thead>\n",
       "  <tbody>\n",
       "    <tr>\n",
       "      <th>3434</th>\n",
       "      <td>3434</td>\n",
       "      <td>1.174540</td>\n",
       "      <td>1.349940</td>\n",
       "      <td>0</td>\n",
       "      <td>910</td>\n",
       "      <td>2.494505</td>\n",
       "      <td>5</td>\n",
       "      <td>26.768182</td>\n",
       "      <td>low density</td>\n",
       "    </tr>\n",
       "    <tr>\n",
       "      <th>3033</th>\n",
       "      <td>3033</td>\n",
       "      <td>1.184990</td>\n",
       "      <td>1.333143</td>\n",
       "      <td>0</td>\n",
       "      <td>911</td>\n",
       "      <td>2.492865</td>\n",
       "      <td>5</td>\n",
       "      <td>26.772588</td>\n",
       "      <td>low density</td>\n",
       "    </tr>\n",
       "    <tr>\n",
       "      <th>3105</th>\n",
       "      <td>3105</td>\n",
       "      <td>1.175928</td>\n",
       "      <td>1.341352</td>\n",
       "      <td>0</td>\n",
       "      <td>913</td>\n",
       "      <td>2.491785</td>\n",
       "      <td>5</td>\n",
       "      <td>26.773242</td>\n",
       "      <td>low density</td>\n",
       "    </tr>\n",
       "    <tr>\n",
       "      <th>3447</th>\n",
       "      <td>3447</td>\n",
       "      <td>1.169269</td>\n",
       "      <td>1.346719</td>\n",
       "      <td>0</td>\n",
       "      <td>914</td>\n",
       "      <td>2.489059</td>\n",
       "      <td>5</td>\n",
       "      <td>26.774194</td>\n",
       "      <td>low density</td>\n",
       "    </tr>\n",
       "    <tr>\n",
       "      <th>2748</th>\n",
       "      <td>2748</td>\n",
       "      <td>1.190299</td>\n",
       "      <td>1.325479</td>\n",
       "      <td>0</td>\n",
       "      <td>908</td>\n",
       "      <td>2.488987</td>\n",
       "      <td>5</td>\n",
       "      <td>26.774219</td>\n",
       "      <td>low density</td>\n",
       "    </tr>\n",
       "  </tbody>\n",
       "</table>\n",
       "</div>"
      ],
      "text/plain": [
       "      scooter_id  xcoordinate  ycoordinate  power_level  density  \\\n",
       "3434        3434     1.174540     1.349940            0      910   \n",
       "3033        3033     1.184990     1.333143            0      911   \n",
       "3105        3105     1.175928     1.341352            0      913   \n",
       "3447        3447     1.169269     1.346719            0      914   \n",
       "2748        2748     1.190299     1.325479            0      908   \n",
       "\n",
       "      avg_power_lv  charging_time  distance_to_bus density_level  \n",
       "3434      2.494505              5        26.768182   low density  \n",
       "3033      2.492865              5        26.772588   low density  \n",
       "3105      2.491785              5        26.773242   low density  \n",
       "3447      2.489059              5        26.774194   low density  \n",
       "2748      2.488987              5        26.774219   low density  "
      ]
     },
     "execution_count": 9,
     "metadata": {},
     "output_type": "execute_result"
    }
   ],
   "source": [
    "def label_density_level(hi_density_threshold): #label a pick_up point as high density or low density\n",
    "    max_density = pick_up_order.density.max()\n",
    "    \n",
    "    try:\n",
    "        pick_up_order['density_level'] = pd.cut(pick_up_order.density, \n",
    "                                                bins = [0, hi_density_threshold, max_density], \n",
    "                                                labels= ['low density', 'high density'])\n",
    "    \n",
    "    except ValueError:\n",
    "        print('ERROR: hi_density_threshold is greater than max_density')\n",
    "    \n",
    "label_density_level(hi_density_threshold = 1700)\n",
    "#if density is greater than 1700, label the point as high density. If not, low density\n",
    "\n",
    "pick_up_order.head(5)"
   ]
  },
  {
   "cell_type": "code",
   "execution_count": 10,
   "metadata": {},
   "outputs": [
    {
     "data": {
      "text/plain": [
       "(1.17135302, 1.346357779)"
      ]
     },
     "execution_count": 10,
     "metadata": {},
     "output_type": "execute_result"
    }
   ],
   "source": [
    "def max_density_near_bus(bus_coordinates, radius): \n",
    "    #return the coordinates of the scooter(point) near the bus with the highest density\n",
    "    \n",
    "    update_distance_to_bus(bus_coordinates)\n",
    "    \n",
    "    scooters_near_bus = scooters_info.loc[scooters_info.distance_to_bus < radius].copy()\n",
    "    #scooters within the bus's radius\n",
    "    \n",
    "    scooters_near_bus.sort_values(['density', 'distance_to_bus'], ascending = [False, True], inplace = True)\n",
    "    #scooters with highest density and closest to the bus will be on top\n",
    "    \n",
    "    scooters_near_bus.reset_index(inplace = True)\n",
    "    \n",
    "    try:\n",
    "        nearest_max_density_scooter = scooters_near_bus.iloc[0]\n",
    "        return tuple([nearest_max_density_scooter.xcoordinate, nearest_max_density_scooter.ycoordinate])\n",
    "    \n",
    "    except IndexError: #if scooters_near_bus is empty\n",
    "        print(\"No scooter nearby\")\n",
    "\n",
    "max_density_near_bus((1.174540, 1.349940), 0.05)"
   ]
  },
  {
   "cell_type": "markdown",
   "metadata": {},
   "source": [
    "******************************"
   ]
  },
  {
   "cell_type": "markdown",
   "metadata": {},
   "source": [
    "After having arrived at the final pick-up location and dropping off all the fully-charged, the bus will still have some remaining scooters. At this point, make an update of the average power level (avg_power_level): \n",
    "1. If there exists a particular area with low avg_power_level, drop the scooters (once they're fully charged) there. This can be because the area is randomly \"neglected\" or the demand (for scooters) in that area suddenly rises. We also need to make this area our first priority of dropping off scooters in the next (repeated) process.   \n",
    "2. If there's not much difference among the areas, simply repeat the process.   "
   ]
  },
  {
   "cell_type": "code",
   "execution_count": null,
   "metadata": {},
   "outputs": [],
   "source": []
  }
 ],
 "metadata": {
  "kernelspec": {
   "display_name": "Python 3",
   "language": "python",
   "name": "python3"
  },
  "language_info": {
   "codemirror_mode": {
    "name": "ipython",
    "version": 3
   },
   "file_extension": ".py",
   "mimetype": "text/x-python",
   "name": "python",
   "nbconvert_exporter": "python",
   "pygments_lexer": "ipython3",
   "version": "3.7.2"
  }
 },
 "nbformat": 4,
 "nbformat_minor": 2
}
