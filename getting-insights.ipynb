{
 "cells": [
  {
   "cell_type": "markdown",
   "metadata": {},
   "source": [
    "### INSTRUCTIONS\n",
    "###### Situation:\n",
    "\n",
    "Have you ever hopped on a scooter and realized the battery is dead? 😣 What an upsetting experience! \n",
    "\n",
    "In order to prevent that horrible user experience from happening, the data science team is focusing its efforts on coming up with the best scooter charging strategy. \n",
    "\n",
    "You can find a data set below with scooters’ current geolocation and power level. Power level ranges from 0 - 5 (0 as completely out of battery, 5 as fully charged). It takes 5 hours to charge a scooter’s power from 0 to 5. TechPointX talent team also has a mega charging bus that drives around to pick up scooters and charge them inside. Unfortunately, the bus can only park and start at location 20.19 (xcoordinate), 20.19 (ycoordinate) and only travel 50 miles per hour. \n",
    "\n",
    "###### Your Task:\n",
    "\n",
    "Review the data set, and draw any conclusions you can find from the data set. Try to identify the most popular scooter location, demonstrate your findings using data visualization tools, calculate operation time cost (Operation Time Cost: How long it takes to fully charge all the scooters), and come up with the most efficient scooter charging strategy. "
   ]
  },
  {
   "cell_type": "markdown",
   "metadata": {},
   "source": [
    "***************************"
   ]
  },
  {
   "cell_type": "markdown",
   "metadata": {},
   "source": [
    "### Getting Started:"
   ]
  },
  {
   "cell_type": "code",
   "execution_count": 1,
   "metadata": {},
   "outputs": [],
   "source": [
    "import numpy as np\n",
    "import pandas as pd\n",
    "import matplotlib.pyplot as plt\n",
    "%matplotlib inline\n",
    "from pandas.plotting import register_matplotlib_converters\n",
    "register_matplotlib_converters()"
   ]
  },
  {
   "cell_type": "code",
   "execution_count": 2,
   "metadata": {},
   "outputs": [
    {
     "data": {
      "text/html": [
       "<div>\n",
       "<style scoped>\n",
       "    .dataframe tbody tr th:only-of-type {\n",
       "        vertical-align: middle;\n",
       "    }\n",
       "\n",
       "    .dataframe tbody tr th {\n",
       "        vertical-align: top;\n",
       "    }\n",
       "\n",
       "    .dataframe thead th {\n",
       "        text-align: right;\n",
       "    }\n",
       "</style>\n",
       "<table border=\"1\" class=\"dataframe\">\n",
       "  <thead>\n",
       "    <tr style=\"text-align: right;\">\n",
       "      <th></th>\n",
       "      <th>scooter_id</th>\n",
       "      <th>xcoordinate</th>\n",
       "      <th>ycoordinate</th>\n",
       "      <th>power_level</th>\n",
       "    </tr>\n",
       "  </thead>\n",
       "  <tbody>\n",
       "    <tr>\n",
       "      <th>0</th>\n",
       "      <td>0</td>\n",
       "      <td>0.906835</td>\n",
       "      <td>0.776484</td>\n",
       "      <td>0</td>\n",
       "    </tr>\n",
       "    <tr>\n",
       "      <th>1</th>\n",
       "      <td>1</td>\n",
       "      <td>0.928587</td>\n",
       "      <td>0.804964</td>\n",
       "      <td>2</td>\n",
       "    </tr>\n",
       "    <tr>\n",
       "      <th>2</th>\n",
       "      <td>2</td>\n",
       "      <td>0.904091</td>\n",
       "      <td>0.784043</td>\n",
       "      <td>1</td>\n",
       "    </tr>\n",
       "    <tr>\n",
       "      <th>3</th>\n",
       "      <td>3</td>\n",
       "      <td>0.906752</td>\n",
       "      <td>0.804461</td>\n",
       "      <td>0</td>\n",
       "    </tr>\n",
       "    <tr>\n",
       "      <th>4</th>\n",
       "      <td>4</td>\n",
       "      <td>0.900641</td>\n",
       "      <td>0.781683</td>\n",
       "      <td>4</td>\n",
       "    </tr>\n",
       "  </tbody>\n",
       "</table>\n",
       "</div>"
      ],
      "text/plain": [
       "   scooter_id  xcoordinate  ycoordinate  power_level\n",
       "0           0     0.906835     0.776484            0\n",
       "1           1     0.928587     0.804964            2\n",
       "2           2     0.904091     0.784043            1\n",
       "3           3     0.906752     0.804461            0\n",
       "4           4     0.900641     0.781683            4"
      ]
     },
     "execution_count": 2,
     "metadata": {},
     "output_type": "execute_result"
    }
   ],
   "source": [
    "scooters_info = pd.read_csv('2019-XTern- Work Sample Assessment Data Science-DS.csv')\n",
    "scooters_info.head(5)"
   ]
  },
  {
   "cell_type": "code",
   "execution_count": 3,
   "metadata": {},
   "outputs": [
    {
     "data": {
      "text/plain": [
       "Text(0.5, 1.0, 'Scooters Location Distribution')"
      ]
     },
     "execution_count": 3,
     "metadata": {},
     "output_type": "execute_result"
    },
    {
     "data": {
      "image/png": "[encoded data removed]",
      "text/plain": [
       "<Figure size 720x720 with 1 Axes>"
      ]
     },
     "metadata": {
      "needs_background": "light"
     },
     "output_type": "display_data"
    }
   ],
   "source": [
    "#A quick look at the distribution of the scooters:\n",
    "plt.figure(figsize = (10, 10))\n",
    "\n",
    "plt.scatter(scooters_info['xcoordinate'], scooters_info['ycoordinate'], color = 'blue')\n",
    "\n",
    "plt.title(\"Scooters Location Distribution\")"
   ]
  },
  {
   "cell_type": "markdown",
   "metadata": {},
   "source": [
    "### Identify the most popular location:"
   ]
  },
  {
   "cell_type": "code",
   "execution_count": 4,
   "metadata": {},
   "outputs": [],
   "source": [
    "def get_density_avg_power(xmin, xmax, ymin, ymax):\n",
    "    #return the number of scooters in the specified area of xcoordinates & ycoordinates\n",
    "    #return the average power level in the specified area of xcoordinates & ycoordinates\n",
    "\n",
    "    scooters_in_the_area = scooters_info.loc[(scooters_info.xcoordinate > xmin) & (scooters_info.xcoordinate < xmax) & \n",
    "                                             (scooters_info.ycoordinate > ymin) & (scooters_info.ycoordinate < ymax)]\n",
    "    \n",
    "    return len(scooters_in_the_area.index), scooters_in_the_area.power_level.mean()"
   ]
  },
  {
   "cell_type": "code",
   "execution_count": 5,
   "metadata": {},
   "outputs": [
    {
     "data": {
      "text/html": [
       "<div>\n",
       "<style scoped>\n",
       "    .dataframe tbody tr th:only-of-type {\n",
       "        vertical-align: middle;\n",
       "    }\n",
       "\n",
       "    .dataframe tbody tr th {\n",
       "        vertical-align: top;\n",
       "    }\n",
       "\n",
       "    .dataframe thead th {\n",
       "        text-align: right;\n",
       "    }\n",
       "</style>\n",
       "<table border=\"1\" class=\"dataframe\">\n",
       "  <thead>\n",
       "    <tr style=\"text-align: right;\">\n",
       "      <th></th>\n",
       "      <th>scooter_id</th>\n",
       "      <th>xcoordinate</th>\n",
       "      <th>ycoordinate</th>\n",
       "      <th>power_level</th>\n",
       "      <th>density_and_avg_power_lv</th>\n",
       "    </tr>\n",
       "  </thead>\n",
       "  <tbody>\n",
       "    <tr>\n",
       "      <th>0</th>\n",
       "      <td>0</td>\n",
       "      <td>0.906835</td>\n",
       "      <td>0.776484</td>\n",
       "      <td>0</td>\n",
       "      <td>(1371, 2.453683442742524)</td>\n",
       "    </tr>\n",
       "    <tr>\n",
       "      <th>1</th>\n",
       "      <td>1</td>\n",
       "      <td>0.928587</td>\n",
       "      <td>0.804964</td>\n",
       "      <td>2</td>\n",
       "      <td>(1314, 2.454337899543379)</td>\n",
       "    </tr>\n",
       "    <tr>\n",
       "      <th>2</th>\n",
       "      <td>2</td>\n",
       "      <td>0.904091</td>\n",
       "      <td>0.784043</td>\n",
       "      <td>1</td>\n",
       "      <td>(1335, 2.4569288389513106)</td>\n",
       "    </tr>\n",
       "    <tr>\n",
       "      <th>3</th>\n",
       "      <td>3</td>\n",
       "      <td>0.906752</td>\n",
       "      <td>0.804461</td>\n",
       "      <td>0</td>\n",
       "      <td>(1314, 2.4596651445966513)</td>\n",
       "    </tr>\n",
       "    <tr>\n",
       "      <th>4</th>\n",
       "      <td>4</td>\n",
       "      <td>0.900641</td>\n",
       "      <td>0.781683</td>\n",
       "      <td>4</td>\n",
       "      <td>(1323, 2.4588057445200304)</td>\n",
       "    </tr>\n",
       "  </tbody>\n",
       "</table>\n",
       "</div>"
      ],
      "text/plain": [
       "   scooter_id  xcoordinate  ycoordinate  power_level  \\\n",
       "0           0     0.906835     0.776484            0   \n",
       "1           1     0.928587     0.804964            2   \n",
       "2           2     0.904091     0.784043            1   \n",
       "3           3     0.906752     0.804461            0   \n",
       "4           4     0.900641     0.781683            4   \n",
       "\n",
       "     density_and_avg_power_lv  \n",
       "0   (1371, 2.453683442742524)  \n",
       "1   (1314, 2.454337899543379)  \n",
       "2  (1335, 2.4569288389513106)  \n",
       "3  (1314, 2.4596651445966513)  \n",
       "4  (1323, 2.4588057445200304)  "
      ]
     },
     "execution_count": 5,
     "metadata": {},
     "output_type": "execute_result"
    }
   ],
   "source": [
    "#Each point's density is the number of points (scooters) within its radius \n",
    "\n",
    "radius = 0.05 #radius of the clusters (see graph below)\n",
    "\n",
    "scooters_info['density_and_avg_power_lv'] = scooters_info.apply(lambda row: get_density_avg_power(\n",
    "                                                                            xmin = row['xcoordinate'] - radius, \n",
    "                                                                            xmax = row['xcoordinate'] + radius, \n",
    "                                                                            ymin = row['ycoordinate'] - radius, \n",
    "                                                                            ymax = row['ycoordinate'] + radius), axis = 1)\n",
    "#this takes about a minute and a half\n",
    "\n",
    "scooters_info.head()"
   ]
  },
  {
   "cell_type": "code",
   "execution_count": 6,
   "metadata": {},
   "outputs": [
    {
     "data": {
      "text/html": [
       "<div>\n",
       "<style scoped>\n",
       "    .dataframe tbody tr th:only-of-type {\n",
       "        vertical-align: middle;\n",
       "    }\n",
       "\n",
       "    .dataframe tbody tr th {\n",
       "        vertical-align: top;\n",
       "    }\n",
       "\n",
       "    .dataframe thead th {\n",
       "        text-align: right;\n",
       "    }\n",
       "</style>\n",
       "<table border=\"1\" class=\"dataframe\">\n",
       "  <thead>\n",
       "    <tr style=\"text-align: right;\">\n",
       "      <th></th>\n",
       "      <th>scooter_id</th>\n",
       "      <th>xcoordinate</th>\n",
       "      <th>ycoordinate</th>\n",
       "      <th>power_level</th>\n",
       "      <th>density</th>\n",
       "      <th>avg_power_lv</th>\n",
       "    </tr>\n",
       "  </thead>\n",
       "  <tbody>\n",
       "    <tr>\n",
       "      <th>0</th>\n",
       "      <td>0</td>\n",
       "      <td>0.906835</td>\n",
       "      <td>0.776484</td>\n",
       "      <td>0</td>\n",
       "      <td>1371</td>\n",
       "      <td>2.453683</td>\n",
       "    </tr>\n",
       "    <tr>\n",
       "      <th>1</th>\n",
       "      <td>1</td>\n",
       "      <td>0.928587</td>\n",
       "      <td>0.804964</td>\n",
       "      <td>2</td>\n",
       "      <td>1314</td>\n",
       "      <td>2.454338</td>\n",
       "    </tr>\n",
       "    <tr>\n",
       "      <th>2</th>\n",
       "      <td>2</td>\n",
       "      <td>0.904091</td>\n",
       "      <td>0.784043</td>\n",
       "      <td>1</td>\n",
       "      <td>1335</td>\n",
       "      <td>2.456929</td>\n",
       "    </tr>\n",
       "    <tr>\n",
       "      <th>3</th>\n",
       "      <td>3</td>\n",
       "      <td>0.906752</td>\n",
       "      <td>0.804461</td>\n",
       "      <td>0</td>\n",
       "      <td>1314</td>\n",
       "      <td>2.459665</td>\n",
       "    </tr>\n",
       "    <tr>\n",
       "      <th>4</th>\n",
       "      <td>4</td>\n",
       "      <td>0.900641</td>\n",
       "      <td>0.781683</td>\n",
       "      <td>4</td>\n",
       "      <td>1323</td>\n",
       "      <td>2.458806</td>\n",
       "    </tr>\n",
       "  </tbody>\n",
       "</table>\n",
       "</div>"
      ],
      "text/plain": [
       "   scooter_id  xcoordinate  ycoordinate  power_level  density  avg_power_lv\n",
       "0           0     0.906835     0.776484            0     1371      2.453683\n",
       "1           1     0.928587     0.804964            2     1314      2.454338\n",
       "2           2     0.904091     0.784043            1     1335      2.456929\n",
       "3           3     0.906752     0.804461            0     1314      2.459665\n",
       "4           4     0.900641     0.781683            4     1323      2.458806"
      ]
     },
     "execution_count": 6,
     "metadata": {},
     "output_type": "execute_result"
    }
   ],
   "source": [
    "#split the column 'density_and_avg_power_lv' into 2 columns 'density' and 'avg_power_lv':\n",
    "scooters_info['density'] = scooters_info.apply(lambda row: row.density_and_avg_power_lv[0], axis = 1)\n",
    "scooters_info['avg_power_lv'] = scooters_info.apply(lambda row: row.density_and_avg_power_lv[1], axis = 1)\n",
    "\n",
    "#remove the column 'density_and_avg_power_lv' after splitting:\n",
    "scooters_info.drop('density_and_avg_power_lv', axis = 1, inplace = True)\n",
    "\n",
    "scooters_info.head()"
   ]
  },
  {
   "cell_type": "code",
   "execution_count": 7,
   "metadata": {},
   "outputs": [
    {
     "data": {
      "text/plain": [
       "scooter_id      1070.000000\n",
       "xcoordinate        0.932272\n",
       "ycoordinate        0.772558\n",
       "power_level        4.000000\n",
       "density         2357.000000\n",
       "avg_power_lv       2.490454\n",
       "Name: 1070, dtype: float64"
      ]
     },
     "execution_count": 7,
     "metadata": {},
     "output_type": "execute_result"
    }
   ],
   "source": [
    "highest_density = scooters_info.iloc[scooters_info.density.idxmax()] #most popular place \n",
    "highest_density"
   ]
  },
  {
   "cell_type": "code",
   "execution_count": 8,
   "metadata": {},
   "outputs": [
    {
     "data": {
      "text/plain": [
       "Text(0.5, 1.0, 'Most Popular Location')"
      ]
     },
     "execution_count": 8,
     "metadata": {},
     "output_type": "execute_result"
    },
    {
     "data": {
      "image/png": "[encoded data removed]",
      "text/plain": [
       "<Figure size 720x720 with 1 Axes>"
      ]
     },
     "metadata": {
      "needs_background": "light"
     },
     "output_type": "display_data"
    }
   ],
   "source": [
    "plt.figure(figsize = (10, 10))\n",
    "\n",
    "axis_scale = np.round(np.linspace(-0.4, 1.4, 19), 1) \n",
    "#create an axis scale that starts at -0.4, ends at 1.4, the step is 0.1 >> there're 19 ticks \n",
    "\n",
    "plt.xticks(axis_scale)\n",
    "plt.yticks(axis_scale)\n",
    "\n",
    "plt.scatter(scooters_info['xcoordinate'], scooters_info['ycoordinate'], color = 'blue')\n",
    "\n",
    "plt.grid(linewidth = 0.5, color = 'r')\n",
    "\n",
    "#\n",
    "\n",
    "highest_density_area = plt.Circle((highest_density.xcoordinate, highest_density.ycoordinate), \n",
    "                                  radius=0.05, alpha = 0.7, color = 'y')\n",
    "plt.gca().add_patch(highest_density_area)\n",
    "plt.legend(['Most popular area'])\n",
    "\n",
    "#\n",
    "\n",
    "plt.title(\"Most Popular Location\")"
   ]
  },
  {
   "cell_type": "markdown",
   "metadata": {},
   "source": [
    "### Calculate operation time cost:"
   ]
  },
  {
   "cell_type": "code",
   "execution_count": 9,
   "metadata": {},
   "outputs": [
    {
     "data": {
      "text/html": [
       "<div>\n",
       "<style scoped>\n",
       "    .dataframe tbody tr th:only-of-type {\n",
       "        vertical-align: middle;\n",
       "    }\n",
       "\n",
       "    .dataframe tbody tr th {\n",
       "        vertical-align: top;\n",
       "    }\n",
       "\n",
       "    .dataframe thead th {\n",
       "        text-align: right;\n",
       "    }\n",
       "</style>\n",
       "<table border=\"1\" class=\"dataframe\">\n",
       "  <thead>\n",
       "    <tr style=\"text-align: right;\">\n",
       "      <th></th>\n",
       "      <th>scooter_id</th>\n",
       "      <th>xcoordinate</th>\n",
       "      <th>ycoordinate</th>\n",
       "      <th>power_level</th>\n",
       "      <th>density</th>\n",
       "      <th>avg_power_lv</th>\n",
       "      <th>charging_time</th>\n",
       "    </tr>\n",
       "  </thead>\n",
       "  <tbody>\n",
       "    <tr>\n",
       "      <th>0</th>\n",
       "      <td>0</td>\n",
       "      <td>0.906835</td>\n",
       "      <td>0.776484</td>\n",
       "      <td>0</td>\n",
       "      <td>1371</td>\n",
       "      <td>2.453683</td>\n",
       "      <td>5</td>\n",
       "    </tr>\n",
       "    <tr>\n",
       "      <th>1</th>\n",
       "      <td>1</td>\n",
       "      <td>0.928587</td>\n",
       "      <td>0.804964</td>\n",
       "      <td>2</td>\n",
       "      <td>1314</td>\n",
       "      <td>2.454338</td>\n",
       "      <td>3</td>\n",
       "    </tr>\n",
       "    <tr>\n",
       "      <th>2</th>\n",
       "      <td>2</td>\n",
       "      <td>0.904091</td>\n",
       "      <td>0.784043</td>\n",
       "      <td>1</td>\n",
       "      <td>1335</td>\n",
       "      <td>2.456929</td>\n",
       "      <td>4</td>\n",
       "    </tr>\n",
       "    <tr>\n",
       "      <th>3</th>\n",
       "      <td>3</td>\n",
       "      <td>0.906752</td>\n",
       "      <td>0.804461</td>\n",
       "      <td>0</td>\n",
       "      <td>1314</td>\n",
       "      <td>2.459665</td>\n",
       "      <td>5</td>\n",
       "    </tr>\n",
       "    <tr>\n",
       "      <th>4</th>\n",
       "      <td>4</td>\n",
       "      <td>0.900641</td>\n",
       "      <td>0.781683</td>\n",
       "      <td>4</td>\n",
       "      <td>1323</td>\n",
       "      <td>2.458806</td>\n",
       "      <td>1</td>\n",
       "    </tr>\n",
       "  </tbody>\n",
       "</table>\n",
       "</div>"
      ],
      "text/plain": [
       "   scooter_id  xcoordinate  ycoordinate  power_level  density  avg_power_lv  \\\n",
       "0           0     0.906835     0.776484            0     1371      2.453683   \n",
       "1           1     0.928587     0.804964            2     1314      2.454338   \n",
       "2           2     0.904091     0.784043            1     1335      2.456929   \n",
       "3           3     0.906752     0.804461            0     1314      2.459665   \n",
       "4           4     0.900641     0.781683            4     1323      2.458806   \n",
       "\n",
       "   charging_time  \n",
       "0              5  \n",
       "1              3  \n",
       "2              4  \n",
       "3              5  \n",
       "4              1  "
      ]
     },
     "execution_count": 9,
     "metadata": {},
     "output_type": "execute_result"
    }
   ],
   "source": [
    "MAX_CHARGING_TIME = 5\n",
    "\n",
    "scooters_info['charging_time'] = MAX_CHARGING_TIME - scooters_info['power_level']\n",
    "#assume that it takes one hour of charging to increase the power level by 1\n",
    "\n",
    "scooters_info.head(5)"
   ]
  },
  {
   "cell_type": "code",
   "execution_count": 10,
   "metadata": {},
   "outputs": [
    {
     "data": {
      "text/plain": [
       "64271"
      ]
     },
     "execution_count": 10,
     "metadata": {},
     "output_type": "execute_result"
    }
   ],
   "source": [
    "operation_time_cost = scooters_info.charging_time.sum() #total charging time of all scooters\n",
    "operation_time_cost"
   ]
  },
  {
   "cell_type": "code",
   "execution_count": 11,
   "metadata": {},
   "outputs": [],
   "source": [
    "scooters_info.to_csv(\"scooters_with_density.csv\", index = False)\n",
    "#export the data to a csv to avoid calculating density again and again"
   ]
  },
  {
   "cell_type": "code",
   "execution_count": null,
   "metadata": {},
   "outputs": [],
   "source": []
  },
  {
   "cell_type": "code",
   "execution_count": null,
   "metadata": {},
   "outputs": [],
   "source": []
  }
 ],
 "metadata": {
  "kernelspec": {
   "display_name": "Python 3",
   "language": "python",
   "name": "python3"
  },
  "language_info": {
   "codemirror_mode": {
    "name": "ipython",
    "version": 3
   },
   "file_extension": ".py",
   "mimetype": "text/x-python",
   "name": "python",
   "nbconvert_exporter": "python",
   "pygments_lexer": "ipython3",
   "version": "3.7.2"
  }
 },
 "nbformat": 4,
 "nbformat_minor": 2
}
